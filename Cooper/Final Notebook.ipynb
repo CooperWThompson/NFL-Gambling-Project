{
 "cells": [
  {
   "cell_type": "markdown",
   "metadata": {},
   "source": [
    "# NFL Gambling Project"
   ]
  },
  {
   "cell_type": "markdown",
   "metadata": {},
   "source": [
    "## Business problem\n",
    "\n",
    "#### Stakeholder: John Daniels\n",
    "- non-technical stakeholder\n",
    "- local gambling addict\n",
    "\n",
    "#### True business problem: \n",
    "- predict whether the favorite in a NFL game wins or not\n",
    "- explore factors that impact the result of the game\n",
    "\n",
    "#### Deliverables: Inference or Prediction?\n",
    "- Predition on if the favorite will win\n",
    "\n",
    "#### Context:\n",
    "\n",
    "- **False negative** Predicit favorite loses, but wins\n",
    "    - **Outcome**: Lose money, by betting on underdog in this situation\n",
    "- **False positive** preidcits favorite wins, but loses\n",
    "    - **Outcome**: Lose money, by betting on favorite in this situation\n",
    "    \n",
    "Would prefer reducing fasle positives over false negative?\n",
    "- equally would like to reduce false positives and false negatives."
   ]
  },
  {
   "cell_type": "markdown",
   "metadata": {},
   "source": [
    "### Evaluation Metric\n",
    "Which metric would make sense to primarily use as we evaluate our models?\n",
    "\n",
    "- Accuracy - balances the two kinds od errors (but is impractical with imbalanced targets)\n",
    "- Precision - helps reduce false postives \n",
    "- Recall - helps reduce false negatives\n",
    "- F1-Score - balances recall & precision (and is better than accuracy with imbalanced targets)\n",
    "- ROC-AUC - helps focus better on probability outputs (makes sure our predicited probabilities are better)"
   ]
  },
  {
   "cell_type": "code",
   "execution_count": null,
   "metadata": {},
   "outputs": [],
   "source": []
  }
 ],
 "metadata": {
  "kernelspec": {
   "display_name": "Python (learn-env)",
   "language": "python",
   "name": "learn-env"
  },
  "language_info": {
   "codemirror_mode": {
    "name": "ipython",
    "version": 3
   },
   "file_extension": ".py",
   "mimetype": "text/x-python",
   "name": "python",
   "nbconvert_exporter": "python",
   "pygments_lexer": "ipython3",
   "version": "3.8.5"
  }
 },
 "nbformat": 4,
 "nbformat_minor": 4
}
