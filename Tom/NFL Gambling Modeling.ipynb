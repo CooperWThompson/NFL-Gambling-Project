{
 "cells": [
  {
   "cell_type": "code",
   "execution_count": 45,
   "metadata": {},
   "outputs": [],
   "source": [
    "import pandas as pd\n",
    "import numpy as np\n",
    "\n",
    "import matplotlib.pyplot as plt\n",
    "import seaborn as sns\n",
    "\n",
    "from sklearn.preprocessing import StandardScaler\n",
    "from sklearn.linear_model import LogisticRegression\n",
    "from sklearn.tree import DecisionTreeClassifier, plot_tree\n",
    "from sklearn.model_selection import train_test_split\n",
    "from sklearn.metrics import accuracy_score, recall_score, precision_score, f1_score\n",
    "from sklearn.metrics import plot_confusion_matrix\n",
    "from sklearn.metrics import roc_auc_score, plot_roc_curve\n",
    "from sklearn.pipeline import Pipeline\n",
    "from sklearn.compose import ColumnTransformer"
   ]
  },
  {
   "cell_type": "code",
   "execution_count": 2,
   "metadata": {},
   "outputs": [
    {
     "name": "stdout",
     "output_type": "stream",
     "text": [
      "'NFL Gambling Modeling.ipynb'\t\t nfl_teams.csv\t spreadspoke_scores.csv\r\n",
      "'NFL Gambling Pre-Modeling Work.ipynb'\t pi.csv\t\t Untitled.ipynb\r\n",
      " nfl_stadiums.csv\t\t\t spreadspoke.R\r\n"
     ]
    }
   ],
   "source": [
    "!ls"
   ]
  },
  {
   "cell_type": "code",
   "execution_count": 3,
   "metadata": {},
   "outputs": [
    {
     "name": "stdout",
     "output_type": "stream",
     "text": [
      "/bin/bash: line 1: ls../: No such file or directory\r\n"
     ]
    }
   ],
   "source": [
    "!ls../"
   ]
  },
  {
   "cell_type": "code",
   "execution_count": 4,
   "metadata": {},
   "outputs": [
    {
     "name": "stdout",
     "output_type": "stream",
     "text": [
      "'All the data preparations.ipynb'   final_nfl_data.csv\r\n",
      " cleaned_nfl_data.csv\t\t   'Final Notebook.ipynb'\r\n"
     ]
    }
   ],
   "source": [
    "!ls ../Cooper"
   ]
  },
  {
   "cell_type": "code",
   "execution_count": 5,
   "metadata": {},
   "outputs": [],
   "source": [
    "df = pd.read_csv('../Cooper/final_nfl_data.csv')\n",
    "#df_1 = pd.read_csv('../Tom/pi.csv')"
   ]
  },
  {
   "cell_type": "code",
   "execution_count": 7,
   "metadata": {},
   "outputs": [],
   "source": [
    "df.drop(columns='Unnamed: 0', inplace=True)"
   ]
  },
  {
   "cell_type": "code",
   "execution_count": 8,
   "metadata": {
    "scrolled": true
   },
   "outputs": [
    {
     "data": {
      "text/html": [
       "<div>\n",
       "<style scoped>\n",
       "    .dataframe tbody tr th:only-of-type {\n",
       "        vertical-align: middle;\n",
       "    }\n",
       "\n",
       "    .dataframe tbody tr th {\n",
       "        vertical-align: top;\n",
       "    }\n",
       "\n",
       "    .dataframe thead th {\n",
       "        text-align: right;\n",
       "    }\n",
       "</style>\n",
       "<table border=\"1\" class=\"dataframe\">\n",
       "  <thead>\n",
       "    <tr style=\"text-align: right;\">\n",
       "      <th></th>\n",
       "      <th>spread_favorite</th>\n",
       "      <th>over_under_line</th>\n",
       "      <th>favorite_win</th>\n",
       "      <th>favorite_home</th>\n",
       "      <th>fav_elev_change</th>\n",
       "      <th>fav_temp_dif</th>\n",
       "      <th>fav_humidity_diff</th>\n",
       "      <th>fav_wind_diff</th>\n",
       "      <th>fav_rank_diff</th>\n",
       "    </tr>\n",
       "  </thead>\n",
       "  <tbody>\n",
       "    <tr>\n",
       "      <th>0</th>\n",
       "      <td>-3.0</td>\n",
       "      <td>44.5</td>\n",
       "      <td>True</td>\n",
       "      <td>True</td>\n",
       "      <td>0.00</td>\n",
       "      <td>0.000000</td>\n",
       "      <td>0.00</td>\n",
       "      <td>0.000000</td>\n",
       "      <td>1.0</td>\n",
       "    </tr>\n",
       "    <tr>\n",
       "      <th>1</th>\n",
       "      <td>-3.0</td>\n",
       "      <td>38.0</td>\n",
       "      <td>True</td>\n",
       "      <td>False</td>\n",
       "      <td>-174.10</td>\n",
       "      <td>8.272727</td>\n",
       "      <td>14.84</td>\n",
       "      <td>8.060606</td>\n",
       "      <td>3.0</td>\n",
       "    </tr>\n",
       "    <tr>\n",
       "      <th>2</th>\n",
       "      <td>-2.5</td>\n",
       "      <td>38.5</td>\n",
       "      <td>True</td>\n",
       "      <td>True</td>\n",
       "      <td>0.00</td>\n",
       "      <td>0.000000</td>\n",
       "      <td>0.00</td>\n",
       "      <td>0.000000</td>\n",
       "      <td>-10.0</td>\n",
       "    </tr>\n",
       "    <tr>\n",
       "      <th>3</th>\n",
       "      <td>-11.0</td>\n",
       "      <td>46.0</td>\n",
       "      <td>True</td>\n",
       "      <td>True</td>\n",
       "      <td>0.00</td>\n",
       "      <td>0.000000</td>\n",
       "      <td>0.00</td>\n",
       "      <td>0.000000</td>\n",
       "      <td>21.0</td>\n",
       "    </tr>\n",
       "    <tr>\n",
       "      <th>4</th>\n",
       "      <td>-3.0</td>\n",
       "      <td>44.5</td>\n",
       "      <td>True</td>\n",
       "      <td>False</td>\n",
       "      <td>-317.64</td>\n",
       "      <td>-7.338028</td>\n",
       "      <td>11.75</td>\n",
       "      <td>18.366197</td>\n",
       "      <td>5.0</td>\n",
       "    </tr>\n",
       "    <tr>\n",
       "      <th>...</th>\n",
       "      <td>...</td>\n",
       "      <td>...</td>\n",
       "      <td>...</td>\n",
       "      <td>...</td>\n",
       "      <td>...</td>\n",
       "      <td>...</td>\n",
       "      <td>...</td>\n",
       "      <td>...</td>\n",
       "      <td>...</td>\n",
       "    </tr>\n",
       "    <tr>\n",
       "      <th>4716</th>\n",
       "      <td>-4.0</td>\n",
       "      <td>48.5</td>\n",
       "      <td>False</td>\n",
       "      <td>True</td>\n",
       "      <td>0.00</td>\n",
       "      <td>0.000000</td>\n",
       "      <td>0.00</td>\n",
       "      <td>0.000000</td>\n",
       "      <td>13.0</td>\n",
       "    </tr>\n",
       "    <tr>\n",
       "      <th>4717</th>\n",
       "      <td>-2.5</td>\n",
       "      <td>54.0</td>\n",
       "      <td>True</td>\n",
       "      <td>True</td>\n",
       "      <td>0.00</td>\n",
       "      <td>0.000000</td>\n",
       "      <td>0.00</td>\n",
       "      <td>0.000000</td>\n",
       "      <td>1.0</td>\n",
       "    </tr>\n",
       "    <tr>\n",
       "      <th>4718</th>\n",
       "      <td>-3.0</td>\n",
       "      <td>48.0</td>\n",
       "      <td>False</td>\n",
       "      <td>True</td>\n",
       "      <td>0.00</td>\n",
       "      <td>0.000000</td>\n",
       "      <td>0.00</td>\n",
       "      <td>0.000000</td>\n",
       "      <td>9.0</td>\n",
       "    </tr>\n",
       "    <tr>\n",
       "      <th>4719</th>\n",
       "      <td>-7.0</td>\n",
       "      <td>54.5</td>\n",
       "      <td>False</td>\n",
       "      <td>True</td>\n",
       "      <td>0.00</td>\n",
       "      <td>0.000000</td>\n",
       "      <td>0.00</td>\n",
       "      <td>0.000000</td>\n",
       "      <td>26.0</td>\n",
       "    </tr>\n",
       "    <tr>\n",
       "      <th>4720</th>\n",
       "      <td>-3.5</td>\n",
       "      <td>46.0</td>\n",
       "      <td>True</td>\n",
       "      <td>True</td>\n",
       "      <td>0.00</td>\n",
       "      <td>0.000000</td>\n",
       "      <td>0.00</td>\n",
       "      <td>0.000000</td>\n",
       "      <td>10.0</td>\n",
       "    </tr>\n",
       "  </tbody>\n",
       "</table>\n",
       "<p>4721 rows × 9 columns</p>\n",
       "</div>"
      ],
      "text/plain": [
       "      spread_favorite  over_under_line  favorite_win  favorite_home  \\\n",
       "0                -3.0             44.5          True           True   \n",
       "1                -3.0             38.0          True          False   \n",
       "2                -2.5             38.5          True           True   \n",
       "3               -11.0             46.0          True           True   \n",
       "4                -3.0             44.5          True          False   \n",
       "...               ...              ...           ...            ...   \n",
       "4716             -4.0             48.5         False           True   \n",
       "4717             -2.5             54.0          True           True   \n",
       "4718             -3.0             48.0         False           True   \n",
       "4719             -7.0             54.5         False           True   \n",
       "4720             -3.5             46.0          True           True   \n",
       "\n",
       "      fav_elev_change  fav_temp_dif  fav_humidity_diff  fav_wind_diff  \\\n",
       "0                0.00      0.000000               0.00       0.000000   \n",
       "1             -174.10      8.272727              14.84       8.060606   \n",
       "2                0.00      0.000000               0.00       0.000000   \n",
       "3                0.00      0.000000               0.00       0.000000   \n",
       "4             -317.64     -7.338028              11.75      18.366197   \n",
       "...               ...           ...                ...            ...   \n",
       "4716             0.00      0.000000               0.00       0.000000   \n",
       "4717             0.00      0.000000               0.00       0.000000   \n",
       "4718             0.00      0.000000               0.00       0.000000   \n",
       "4719             0.00      0.000000               0.00       0.000000   \n",
       "4720             0.00      0.000000               0.00       0.000000   \n",
       "\n",
       "      fav_rank_diff  \n",
       "0               1.0  \n",
       "1               3.0  \n",
       "2             -10.0  \n",
       "3              21.0  \n",
       "4               5.0  \n",
       "...             ...  \n",
       "4716           13.0  \n",
       "4717            1.0  \n",
       "4718            9.0  \n",
       "4719           26.0  \n",
       "4720           10.0  \n",
       "\n",
       "[4721 rows x 9 columns]"
      ]
     },
     "execution_count": 8,
     "metadata": {},
     "output_type": "execute_result"
    }
   ],
   "source": [
    "df"
   ]
  },
  {
   "cell_type": "code",
   "execution_count": 31,
   "metadata": {},
   "outputs": [
    {
     "data": {
      "text/plain": [
       "9.220703125"
      ]
     },
     "execution_count": 31,
     "metadata": {},
     "output_type": "execute_result"
    }
   ],
   "source": []
  },
  {
   "cell_type": "code",
   "execution_count": 90,
   "metadata": {},
   "outputs": [],
   "source": [
    "X = df.drop(columns='favorite_win')\n",
    "y = df['favorite_win']"
   ]
  },
  {
   "cell_type": "code",
   "execution_count": 37,
   "metadata": {},
   "outputs": [],
   "source": [
    "X_train, X_test, y_train, y_test = train_test_split(X, y, test_size=520, random_state=42)\n"
   ]
  },
  {
   "cell_type": "code",
   "execution_count": 38,
   "metadata": {},
   "outputs": [
    {
     "name": "stdout",
     "output_type": "stream",
     "text": [
      "<class 'pandas.core.frame.DataFrame'>\n",
      "Int64Index: 4201 entries, 2876 to 860\n",
      "Data columns (total 8 columns):\n",
      " #   Column             Non-Null Count  Dtype  \n",
      "---  ------             --------------  -----  \n",
      " 0   spread_favorite    4201 non-null   float64\n",
      " 1   over_under_line    4201 non-null   float64\n",
      " 2   favorite_home      4201 non-null   bool   \n",
      " 3   fav_elev_change    4201 non-null   float64\n",
      " 4   fav_temp_dif       4201 non-null   float64\n",
      " 5   fav_humidity_diff  4201 non-null   float64\n",
      " 6   fav_wind_diff      4201 non-null   float64\n",
      " 7   fav_rank_diff      4201 non-null   float64\n",
      "dtypes: bool(1), float64(7)\n",
      "memory usage: 266.7 KB\n"
     ]
    }
   ],
   "source": [
    "X_train.info()"
   ]
  },
  {
   "cell_type": "code",
   "execution_count": 39,
   "metadata": {
    "scrolled": true
   },
   "outputs": [
    {
     "data": {
      "text/html": [
       "<div>\n",
       "<style scoped>\n",
       "    .dataframe tbody tr th:only-of-type {\n",
       "        vertical-align: middle;\n",
       "    }\n",
       "\n",
       "    .dataframe tbody tr th {\n",
       "        vertical-align: top;\n",
       "    }\n",
       "\n",
       "    .dataframe thead th {\n",
       "        text-align: right;\n",
       "    }\n",
       "</style>\n",
       "<table border=\"1\" class=\"dataframe\">\n",
       "  <thead>\n",
       "    <tr style=\"text-align: right;\">\n",
       "      <th></th>\n",
       "      <th>spread_favorite</th>\n",
       "      <th>over_under_line</th>\n",
       "      <th>fav_elev_change</th>\n",
       "      <th>fav_temp_dif</th>\n",
       "      <th>fav_humidity_diff</th>\n",
       "      <th>fav_wind_diff</th>\n",
       "      <th>fav_rank_diff</th>\n",
       "    </tr>\n",
       "  </thead>\n",
       "  <tbody>\n",
       "    <tr>\n",
       "      <th>count</th>\n",
       "      <td>4201.000000</td>\n",
       "      <td>4201.000000</td>\n",
       "      <td>4201.000000</td>\n",
       "      <td>4201.000000</td>\n",
       "      <td>4201.000000</td>\n",
       "      <td>4201.000000</td>\n",
       "      <td>4201.000000</td>\n",
       "    </tr>\n",
       "    <tr>\n",
       "      <th>mean</th>\n",
       "      <td>-5.524518</td>\n",
       "      <td>44.212806</td>\n",
       "      <td>-11.077629</td>\n",
       "      <td>1.079728</td>\n",
       "      <td>-5.630246</td>\n",
       "      <td>-0.356491</td>\n",
       "      <td>4.855987</td>\n",
       "    </tr>\n",
       "    <tr>\n",
       "      <th>std</th>\n",
       "      <td>3.480181</td>\n",
       "      <td>4.858479</td>\n",
       "      <td>250.089457</td>\n",
       "      <td>10.010158</td>\n",
       "      <td>20.018399</td>\n",
       "      <td>3.695825</td>\n",
       "      <td>11.874762</td>\n",
       "    </tr>\n",
       "    <tr>\n",
       "      <th>min</th>\n",
       "      <td>-26.500000</td>\n",
       "      <td>30.000000</td>\n",
       "      <td>-1610.200000</td>\n",
       "      <td>-67.797872</td>\n",
       "      <td>-83.576923</td>\n",
       "      <td>-12.866667</td>\n",
       "      <td>-31.000000</td>\n",
       "    </tr>\n",
       "    <tr>\n",
       "      <th>25%</th>\n",
       "      <td>-7.000000</td>\n",
       "      <td>41.000000</td>\n",
       "      <td>0.000000</td>\n",
       "      <td>0.000000</td>\n",
       "      <td>0.000000</td>\n",
       "      <td>0.000000</td>\n",
       "      <td>-3.000000</td>\n",
       "    </tr>\n",
       "    <tr>\n",
       "      <th>50%</th>\n",
       "      <td>-4.500000</td>\n",
       "      <td>44.000000</td>\n",
       "      <td>0.000000</td>\n",
       "      <td>0.000000</td>\n",
       "      <td>0.000000</td>\n",
       "      <td>0.000000</td>\n",
       "      <td>5.000000</td>\n",
       "    </tr>\n",
       "    <tr>\n",
       "      <th>75%</th>\n",
       "      <td>-3.000000</td>\n",
       "      <td>47.500000</td>\n",
       "      <td>0.000000</td>\n",
       "      <td>0.000000</td>\n",
       "      <td>0.000000</td>\n",
       "      <td>0.000000</td>\n",
       "      <td>14.000000</td>\n",
       "    </tr>\n",
       "    <tr>\n",
       "      <th>max</th>\n",
       "      <td>-1.000000</td>\n",
       "      <td>63.500000</td>\n",
       "      <td>1609.100000</td>\n",
       "      <td>49.946667</td>\n",
       "      <td>48.555556</td>\n",
       "      <td>22.907407</td>\n",
       "      <td>31.000000</td>\n",
       "    </tr>\n",
       "  </tbody>\n",
       "</table>\n",
       "</div>"
      ],
      "text/plain": [
       "       spread_favorite  over_under_line  fav_elev_change  fav_temp_dif  \\\n",
       "count      4201.000000      4201.000000      4201.000000   4201.000000   \n",
       "mean         -5.524518        44.212806       -11.077629      1.079728   \n",
       "std           3.480181         4.858479       250.089457     10.010158   \n",
       "min         -26.500000        30.000000     -1610.200000    -67.797872   \n",
       "25%          -7.000000        41.000000         0.000000      0.000000   \n",
       "50%          -4.500000        44.000000         0.000000      0.000000   \n",
       "75%          -3.000000        47.500000         0.000000      0.000000   \n",
       "max          -1.000000        63.500000      1609.100000     49.946667   \n",
       "\n",
       "       fav_humidity_diff  fav_wind_diff  fav_rank_diff  \n",
       "count        4201.000000    4201.000000    4201.000000  \n",
       "mean           -5.630246      -0.356491       4.855987  \n",
       "std            20.018399       3.695825      11.874762  \n",
       "min           -83.576923     -12.866667     -31.000000  \n",
       "25%             0.000000       0.000000      -3.000000  \n",
       "50%             0.000000       0.000000       5.000000  \n",
       "75%             0.000000       0.000000      14.000000  \n",
       "max            48.555556      22.907407      31.000000  "
      ]
     },
     "execution_count": 39,
     "metadata": {},
     "output_type": "execute_result"
    }
   ],
   "source": [
    "X_train.describe()"
   ]
  },
  {
   "cell_type": "code",
   "execution_count": 40,
   "metadata": {},
   "outputs": [],
   "source": [
    "train_df = X_train.copy()\n",
    "train_df['favorite_win'] = y_train"
   ]
  },
  {
   "cell_type": "code",
   "execution_count": 41,
   "metadata": {},
   "outputs": [
    {
     "data": {
      "image/png": "[encoded data removed]",
      "text/plain": [
       "<Figure size 432x288 with 2 Axes>"
      ]
     },
     "metadata": {
      "needs_background": "light"
     },
     "output_type": "display_data"
    }
   ],
   "source": [
    "sns.heatmap(train_df.corr());"
   ]
  },
  {
   "cell_type": "code",
   "execution_count": 42,
   "metadata": {},
   "outputs": [
    {
     "data": {
      "text/plain": [
       "['spread_favorite',\n",
       " 'over_under_line',\n",
       " 'favorite_home',\n",
       " 'fav_elev_change',\n",
       " 'fav_temp_dif',\n",
       " 'fav_humidity_diff',\n",
       " 'fav_wind_diff',\n",
       " 'fav_rank_diff']"
      ]
     },
     "execution_count": 42,
     "metadata": {},
     "output_type": "execute_result"
    }
   ],
   "source": [
    "list(X_train)"
   ]
  },
  {
   "cell_type": "code",
   "execution_count": 43,
   "metadata": {},
   "outputs": [],
   "source": [
    "num_columns = list(X_train)"
   ]
  },
  {
   "cell_type": "code",
   "execution_count": 47,
   "metadata": {},
   "outputs": [],
   "source": [
    "num_transformer = StandardScaler()\n",
    "\n",
    "preprocessor = ColumnTransformer([ \n",
    "    ('nums', num_transformer, num_columns)\n",
    "])"
   ]
  },
  {
   "cell_type": "markdown",
   "metadata": {},
   "source": [
    "# Model-less Baseline"
   ]
  },
  {
   "cell_type": "code",
   "execution_count": 48,
   "metadata": {
    "scrolled": true
   },
   "outputs": [
    {
     "data": {
      "text/plain": [
       "True     0.662699\n",
       "False    0.337301\n",
       "Name: favorite_win, dtype: float64"
      ]
     },
     "execution_count": 48,
     "metadata": {},
     "output_type": "execute_result"
    }
   ],
   "source": [
    "pd.Series(y_train).value_counts(normalize=True)"
   ]
  },
  {
   "cell_type": "markdown",
   "metadata": {},
   "source": [
    "# Decision Tree"
   ]
  },
  {
   "cell_type": "code",
   "execution_count": 49,
   "metadata": {},
   "outputs": [],
   "source": [
    "clf_dt = Pipeline(steps = [\n",
    "    ('preprocessor', preprocessor),\n",
    "    ('tree', DecisionTreeClassifier(random_state=42, max_depth=15))\n",
    "])\n",
    "\n",
    "clf_dt.fit(X_train, y_train)\n",
    "\n",
    "train_preds = clf_dt.predict(X_train)\n",
    "test_preds = clf_dt.predict(X_test)\n",
    "\n",
    "train_probas = clf_dt.predict_proba(X_train)[:,1]\n",
    "test_probas = clf_dt.predict_proba(X_test)[:,1]"
   ]
  },
  {
   "cell_type": "code",
   "execution_count": 50,
   "metadata": {},
   "outputs": [
    {
     "data": {
      "image/png": "[encoded data removed]",
      "text/plain": [
       "<Figure size 432x288 with 2 Axes>"
      ]
     },
     "metadata": {
      "needs_background": "light"
     },
     "output_type": "display_data"
    }
   ],
   "source": [
    "plot_confusion_matrix(clf_dt, X_test, y_test);"
   ]
  },
  {
   "cell_type": "code",
   "execution_count": 51,
   "metadata": {},
   "outputs": [
    {
     "data": {
      "image/png": "[encoded data removed]",
      "text/plain": [
       "<Figure size 432x288 with 1 Axes>"
      ]
     },
     "metadata": {
      "needs_background": "light"
     },
     "output_type": "display_data"
    }
   ],
   "source": [
    "plot_roc_curve(clf_dt, X_test, y_test);"
   ]
  },
  {
   "cell_type": "code",
   "execution_count": 52,
   "metadata": {},
   "outputs": [
    {
     "name": "stdout",
     "output_type": "stream",
     "text": [
      "Train F1: 0.8582\n",
      "Train Precision: 0.7733\n",
      "Train ROC-AUC: 0.7043\n",
      "********************\n",
      "Test F1: 0.7455\n",
      "Test Precision: 0.6792\n",
      "Test ROC-AUC: 0.5078\n"
     ]
    }
   ],
   "source": [
    "print(f\"Train F1: {f1_score(y_train, train_preds):.4f}\")\n",
    "print(f\"Train Precision: {precision_score(y_train, train_preds):.4f}\")\n",
    "print(f\"Train ROC-AUC: {roc_auc_score(y_train, train_preds):.4f}\")\n",
    "print(\"*\" * 20)\n",
    "print(f\"Test F1: {f1_score(y_test, test_preds):.4f}\")\n",
    "print(f\"Test Precision: {precision_score(y_test, test_preds):.4f}\")\n",
    "print(f\"Test ROC-AUC: {roc_auc_score(y_test, test_preds):.4f}\")"
   ]
  },
  {
   "cell_type": "code",
   "execution_count": 53,
   "metadata": {},
   "outputs": [],
   "source": [
    "def evaluate(model, Xtr, Xte, ytr, yte):\n",
    "    train_preds = model.predict(Xtr)\n",
    "    test_preds = model.predict(Xte)\n",
    "\n",
    "    train_probas = model.predict_proba(Xtr)[:,1]\n",
    "    test_probas = model.predict_proba(Xte)[:,1]\n",
    "    \n",
    "    plot_confusion_matrix(model, Xte, yte)\n",
    "    \n",
    "    plot_roc_curve(model, Xte, yte)\n",
    "    \n",
    "    print(f\"Train F1: {f1_score(ytr, train_preds):.4f}\")\n",
    "    print(f\"Train Precision: {precision_score(ytr, train_preds):.4f}\")\n",
    "    print(f\"Train ROC-AUC: {roc_auc_score(ytr, train_preds):.4f}\")\n",
    "    print(\"*\" * 20)\n",
    "    print(f\"Test F1: {f1_score(yte, test_preds):.4f}\")\n",
    "    print(f\"Test Precision: {precision_score(yte, test_preds):.4f}\")\n",
    "    print(f\"Test ROC-AUC: {roc_auc_score(yte, test_preds):.4f}\")"
   ]
  },
  {
   "cell_type": "code",
   "execution_count": 55,
   "metadata": {
    "scrolled": true
   },
   "outputs": [
    {
     "name": "stdout",
     "output_type": "stream",
     "text": [
      "Train F1: 0.8582\n",
      "Train Precision: 0.7733\n",
      "Train ROC-AUC: 0.7043\n",
      "********************\n",
      "Test F1: 0.7455\n",
      "Test Precision: 0.6792\n",
      "Test ROC-AUC: 0.5078\n"
     ]
    },
    {
     "data": {
      "image/png": "[encoded data removed]",
      "text/plain": [
       "<Figure size 432x288 with 2 Axes>"
      ]
     },
     "metadata": {
      "needs_background": "light"
     },
     "output_type": "display_data"
    },
    {
     "data": {
      "image/png": "[encoded data removed]",
      "text/plain": [
       "<Figure size 432x288 with 1 Axes>"
      ]
     },
     "metadata": {
      "needs_background": "light"
     },
     "output_type": "display_data"
    }
   ],
   "source": [
    "evaluate(clf_dt, X_train, X_test, y_train, y_test)"
   ]
  },
  {
   "cell_type": "code",
   "execution_count": 64,
   "metadata": {},
   "outputs": [],
   "source": [
    "from sklearn.ensemble import AdaBoostClassifier\n",
    "from sklearn.model_selection import cross_val_score, GridSearchCV"
   ]
  },
  {
   "cell_type": "code",
   "execution_count": 65,
   "metadata": {},
   "outputs": [
    {
     "data": {
      "text/plain": [
       "AdaBoostClassifier(learning_rate=0.1, n_estimators=100, random_state=42)"
      ]
     },
     "execution_count": 65,
     "metadata": {},
     "output_type": "execute_result"
    }
   ],
   "source": [
    "ada = AdaBoostClassifier(random_state=42, learning_rate=.1, n_estimators=100)\n",
    "\n",
    "ada.fit(X_train, y_train)"
   ]
  },
  {
   "cell_type": "code",
   "execution_count": 66,
   "metadata": {},
   "outputs": [
    {
     "name": "stdout",
     "output_type": "stream",
     "text": [
      "Train Score: 0.6646036657938587\n",
      "Test Score: 0.6730769230769231\n"
     ]
    }
   ],
   "source": [
    "print(f\"Train Score: {ada.score(X_train, y_train)}\")\n",
    "print(f\"Test Score: {ada.score(X_test, y_test)}\")"
   ]
  },
  {
   "cell_type": "code",
   "execution_count": 67,
   "metadata": {},
   "outputs": [
    {
     "data": {
      "text/plain": [
       "GridSearchCV(cv=5, estimator=AdaBoostClassifier(random_state=65),\n",
       "             param_grid={'learning_rate': [0.01, 0.1, 0.5, 1],\n",
       "                         'n_estimators': [10, 50, 100, 1000]})"
      ]
     },
     "execution_count": 67,
     "metadata": {},
     "output_type": "execute_result"
    }
   ],
   "source": [
    "ada = AdaBoostClassifier(random_state = 65)\n",
    "\n",
    "# Let's define a param grid together!\n",
    "param_grid = {\n",
    "        'learning_rate': [.01, .1, .5, 1],\n",
    "        'n_estimators': [10, 50, 100, 1000]\n",
    "}\n",
    "\n",
    "# Create our grid search\n",
    "gs = GridSearchCV(estimator=ada, param_grid=param_grid, cv = 5)\n",
    "\n",
    "# Fit our grid search\n",
    "gs.fit(X_train, y_train)"
   ]
  },
  {
   "cell_type": "code",
   "execution_count": 68,
   "metadata": {},
   "outputs": [
    {
     "name": "stdout",
     "output_type": "stream",
     "text": [
      "Train Score: 0.6626993572958819\n",
      "Test Score: 0.675\n"
     ]
    }
   ],
   "source": [
    "print(f\"Train Score: {gs.best_estimator_.score(X_train, y_train)}\")\n",
    "print(f\"Test Score: {gs.best_estimator_.score(X_test, y_test)}\")"
   ]
  },
  {
   "cell_type": "code",
   "execution_count": 69,
   "metadata": {},
   "outputs": [
    {
     "data": {
      "text/plain": [
       "{'learning_rate': 0.01, 'n_estimators': 10}"
      ]
     },
     "execution_count": 69,
     "metadata": {},
     "output_type": "execute_result"
    }
   ],
   "source": [
    "gs.best_params_"
   ]
  },
  {
   "cell_type": "markdown",
   "metadata": {},
   "source": [
    "# Naive Bayes"
   ]
  },
  {
   "cell_type": "code",
   "execution_count": 56,
   "metadata": {},
   "outputs": [],
   "source": [
    "from sklearn.naive_bayes import MultinomialNB, ComplementNB, GaussianNB"
   ]
  },
  {
   "cell_type": "code",
   "execution_count": 57,
   "metadata": {},
   "outputs": [
    {
     "data": {
      "text/plain": [
       "Pipeline(steps=[('preprocessor',\n",
       "                 ColumnTransformer(transformers=[('nums', StandardScaler(),\n",
       "                                                  ['spread_favorite',\n",
       "                                                   'over_under_line',\n",
       "                                                   'favorite_home',\n",
       "                                                   'fav_elev_change',\n",
       "                                                   'fav_temp_dif',\n",
       "                                                   'fav_humidity_diff',\n",
       "                                                   'fav_wind_diff',\n",
       "                                                   'fav_rank_diff'])])),\n",
       "                ('nb', GaussianNB())])"
      ]
     },
     "execution_count": 57,
     "metadata": {},
     "output_type": "execute_result"
    }
   ],
   "source": [
    "clf_nb = Pipeline(steps=[\n",
    "    ('preprocessor', preprocessor),\n",
    "    ('nb', GaussianNB())\n",
    "])\n",
    "\n",
    "clf_nb.fit(X_train, y_train)"
   ]
  },
  {
   "cell_type": "code",
   "execution_count": 59,
   "metadata": {},
   "outputs": [
    {
     "name": "stdout",
     "output_type": "stream",
     "text": [
      "Train F1: 0.7685\n",
      "Train Precision: 0.6675\n",
      "Train ROC-AUC: 0.5096\n",
      "********************\n",
      "Test F1: 0.7785\n",
      "Test Precision: 0.6824\n",
      "Test ROC-AUC: 0.5151\n"
     ]
    },
    {
     "data": {
      "image/png": "[encoded data removed]",
      "text/plain": [
       "<Figure size 432x288 with 2 Axes>"
      ]
     },
     "metadata": {
      "needs_background": "light"
     },
     "output_type": "display_data"
    },
    {
     "data": {
      "image/png": "[encoded data removed]",
      "text/plain": [
       "<Figure size 432x288 with 1 Axes>"
      ]
     },
     "metadata": {
      "needs_background": "light"
     },
     "output_type": "display_data"
    }
   ],
   "source": [
    "evaluate(clf_nb, X_train, X_test, y_train, y_test)"
   ]
  },
  {
   "cell_type": "markdown",
   "metadata": {},
   "source": [
    "# Logreg"
   ]
  },
  {
   "cell_type": "code",
   "execution_count": 70,
   "metadata": {},
   "outputs": [
    {
     "data": {
      "text/plain": [
       "Pipeline(steps=[('preprocessor',\n",
       "                 ColumnTransformer(transformers=[('nums', StandardScaler(),\n",
       "                                                  ['spread_favorite',\n",
       "                                                   'over_under_line',\n",
       "                                                   'favorite_home',\n",
       "                                                   'fav_elev_change',\n",
       "                                                   'fav_temp_dif',\n",
       "                                                   'fav_humidity_diff',\n",
       "                                                   'fav_wind_diff',\n",
       "                                                   'fav_rank_diff'])])),\n",
       "                ('logreg', LogisticRegression())])"
      ]
     },
     "execution_count": 70,
     "metadata": {},
     "output_type": "execute_result"
    }
   ],
   "source": [
    "clf_lr = Pipeline(steps = [\n",
    "    \n",
    "    ('preprocessor', preprocessor),\n",
    "    ('logreg', LogisticRegression())\n",
    "])\n",
    "clf_lr.fit(X_train, y_train)"
   ]
  },
  {
   "cell_type": "code",
   "execution_count": 71,
   "metadata": {},
   "outputs": [
    {
     "name": "stdout",
     "output_type": "stream",
     "text": [
      "Train F1: 0.7910\n",
      "Train Precision: 0.6678\n",
      "Train ROC-AUC: 0.5110\n",
      "********************\n",
      "Test F1: 0.7938\n",
      "Test Precision: 0.6795\n",
      "Test ROC-AUC: 0.5098\n"
     ]
    },
    {
     "data": {
      "image/png": "[encoded data removed]",
      "text/plain": [
       "<Figure size 432x288 with 2 Axes>"
      ]
     },
     "metadata": {
      "needs_background": "light"
     },
     "output_type": "display_data"
    },
    {
     "data": {
      "image/png": "[encoded data removed]",
      "text/plain": [
       "<Figure size 432x288 with 1 Axes>"
      ]
     },
     "metadata": {
      "needs_background": "light"
     },
     "output_type": "display_data"
    }
   ],
   "source": [
    "evaluate(clf_lr, X_train, X_test, y_train, y_test)"
   ]
  },
  {
   "cell_type": "markdown",
   "metadata": {},
   "source": [
    "# DT Exploration"
   ]
  },
  {
   "cell_type": "code",
   "execution_count": 72,
   "metadata": {},
   "outputs": [],
   "source": [
    "clf_dt = Pipeline(steps = [\n",
    "    ('preprocessor', preprocessor),\n",
    "    ('tree', DecisionTreeClassifier(random_state=42, max_depth=15))\n",
    "])\n",
    "\n",
    "clf_dt.fit(X_train, y_train)\n",
    "\n",
    "train_preds = clf_dt.predict(X_train)\n",
    "test_preds = clf_dt.predict(X_test)\n",
    "\n",
    "train_probas = clf_dt.predict_proba(X_train)[:,1]\n",
    "test_probas = clf_dt.predict_proba(X_test)[:,1]"
   ]
  },
  {
   "cell_type": "code",
   "execution_count": 73,
   "metadata": {},
   "outputs": [],
   "source": [
    "def evaluate(model, Xtr, Xte, ytr, yte):\n",
    "    train_preds = model.predict(Xtr)\n",
    "    test_preds = model.predict(Xte)\n",
    "\n",
    "    train_probas = model.predict_proba(Xtr)[:,1]\n",
    "    test_probas = model.predict_proba(Xte)[:,1]\n",
    "    \n",
    "    plot_confusion_matrix(model, Xte, yte)\n",
    "    \n",
    "    plot_roc_curve(model, Xte, yte)\n",
    "    \n",
    "    print(f\"Train F1: {f1_score(ytr, train_preds):.4f}\")\n",
    "    print(f\"Train Precision: {precision_score(ytr, train_preds):.4f}\")\n",
    "    print(f\"Train ROC-AUC: {roc_auc_score(ytr, train_preds):.4f}\")\n",
    "    print(\"*\" * 20)\n",
    "    print(f\"Test F1: {f1_score(yte, test_preds):.4f}\")\n",
    "    print(f\"Test Precision: {precision_score(yte, test_preds):.4f}\")\n",
    "    print(f\"Test ROC-AUC: {roc_auc_score(yte, test_preds):.4f}\")"
   ]
  },
  {
   "cell_type": "code",
   "execution_count": 74,
   "metadata": {},
   "outputs": [
    {
     "name": "stdout",
     "output_type": "stream",
     "text": [
      "Train F1: 0.8582\n",
      "Train Precision: 0.7733\n",
      "Train ROC-AUC: 0.7043\n",
      "********************\n",
      "Test F1: 0.7455\n",
      "Test Precision: 0.6792\n",
      "Test ROC-AUC: 0.5078\n"
     ]
    },
    {
     "data": {
      "image/png": "[encoded data removed]",
      "text/plain": [
       "<Figure size 432x288 with 2 Axes>"
      ]
     },
     "metadata": {
      "needs_background": "light"
     },
     "output_type": "display_data"
    },
    {
     "data": {
      "image/png": "[encoded data removed]",
      "text/plain": [
       "<Figure size 432x288 with 1 Axes>"
      ]
     },
     "metadata": {
      "needs_background": "light"
     },
     "output_type": "display_data"
    }
   ],
   "source": [
    "evaluate(clf_dt, X_train, X_test, y_train, y_test)"
   ]
  },
  {
   "cell_type": "markdown",
   "metadata": {},
   "source": [
    "## Boosting Methods"
   ]
  },
  {
   "cell_type": "markdown",
   "metadata": {},
   "source": [
    "### ADABoost"
   ]
  },
  {
   "cell_type": "code",
   "execution_count": 75,
   "metadata": {},
   "outputs": [
    {
     "data": {
      "text/plain": [
       "GridSearchCV(cv=5, estimator=AdaBoostClassifier(random_state=65),\n",
       "             param_grid={'learning_rate': [0.001, 0.01, 0.05, 0.1],\n",
       "                         'n_estimators': [2, 5, 10, 50]})"
      ]
     },
     "execution_count": 75,
     "metadata": {},
     "output_type": "execute_result"
    }
   ],
   "source": [
    "ada = AdaBoostClassifier(random_state = 65)\n",
    "\n",
    "# Let's define a param grid together!\n",
    "param_grid = {\n",
    "        'learning_rate': [.001, .01, .05, .1,],\n",
    "        'n_estimators': [2, 5, 10, 50]\n",
    "}\n",
    "\n",
    "# Create our grid search\n",
    "gs = GridSearchCV(estimator=ada, param_grid=param_grid, cv = 5)\n",
    "\n",
    "# Fit our grid search\n",
    "gs.fit(X_train, y_train)"
   ]
  },
  {
   "cell_type": "code",
   "execution_count": 76,
   "metadata": {},
   "outputs": [
    {
     "name": "stdout",
     "output_type": "stream",
     "text": [
      "Train Score: 0.6626993572958819\n",
      "Test Score: 0.675\n"
     ]
    }
   ],
   "source": [
    "print(f\"Train Score: {gs.best_estimator_.score(X_train, y_train)}\")\n",
    "print(f\"Test Score: {gs.best_estimator_.score(X_test, y_test)}\")"
   ]
  },
  {
   "cell_type": "code",
   "execution_count": 77,
   "metadata": {},
   "outputs": [
    {
     "data": {
      "text/plain": [
       "{'learning_rate': 0.001, 'n_estimators': 2}"
      ]
     },
     "execution_count": 77,
     "metadata": {},
     "output_type": "execute_result"
    }
   ],
   "source": [
    "gs.best_params_"
   ]
  },
  {
   "cell_type": "markdown",
   "metadata": {},
   "source": [
    "### Gradient Boost"
   ]
  },
  {
   "cell_type": "code",
   "execution_count": 78,
   "metadata": {},
   "outputs": [],
   "source": [
    "from sklearn.ensemble import GradientBoostingClassifier"
   ]
  },
  {
   "cell_type": "code",
   "execution_count": 82,
   "metadata": {},
   "outputs": [
    {
     "data": {
      "text/plain": [
       "GradientBoostingClassifier(max_depth=2, n_estimators=10, random_state=42)"
      ]
     },
     "execution_count": 82,
     "metadata": {},
     "output_type": "execute_result"
    }
   ],
   "source": [
    "gb_sklearn = GradientBoostingClassifier(max_depth=2, n_estimators=10, random_state=42)\n",
    "\n",
    "gb_sklearn.fit(X_train, y_train)"
   ]
  },
  {
   "cell_type": "code",
   "execution_count": 86,
   "metadata": {},
   "outputs": [
    {
     "data": {
      "text/plain": [
       "GridSearchCV(cv=5,\n",
       "             estimator=GradientBoostingClassifier(max_depth=2, n_estimators=10,\n",
       "                                                  random_state=42),\n",
       "             param_grid={'learning_rate': [0.001, 0.01, 0.05, 0.1],\n",
       "                         'n_estimators': [2, 5, 10, 50]})"
      ]
     },
     "execution_count": 86,
     "metadata": {},
     "output_type": "execute_result"
    }
   ],
   "source": [
    "param_grid = {\n",
    "        'learning_rate': [.001, .01, .05, .1,],\n",
    "        'n_estimators': [2, 5, 10, 50]\n",
    "}\n",
    "\n",
    "gs = GridSearchCV(estimator=gb_sklearn, param_grid=param_grid, cv = 5)\n",
    "\n",
    "gs.fit(X_train, y_train)"
   ]
  },
  {
   "cell_type": "code",
   "execution_count": 89,
   "metadata": {
    "scrolled": true
   },
   "outputs": [
    {
     "name": "stdout",
     "output_type": "stream",
     "text": [
      "Train Score: 0.6626993572958819\n",
      "Test Score: 0.675\n"
     ]
    }
   ],
   "source": [
    "print(f\"Train Score: {gs.score(X_train, y_train)}\")\n",
    "print(f\"Test Score: {gs.score(X_test, y_test)}\")"
   ]
  },
  {
   "cell_type": "code",
   "execution_count": 88,
   "metadata": {},
   "outputs": [
    {
     "data": {
      "text/plain": [
       "{'learning_rate': 0.001, 'n_estimators': 2}"
      ]
     },
     "execution_count": 88,
     "metadata": {},
     "output_type": "execute_result"
    }
   ],
   "source": [
    "gs.best_params_"
   ]
  },
  {
   "cell_type": "code",
   "execution_count": null,
   "metadata": {},
   "outputs": [],
   "source": []
  }
 ],
 "metadata": {
  "kernelspec": {
   "display_name": "Python 3",
   "language": "python",
   "name": "python3"
  },
  "language_info": {
   "codemirror_mode": {
    "name": "ipython",
    "version": 3
   },
   "file_extension": ".py",
   "mimetype": "text/x-python",
   "name": "python",
   "nbconvert_exporter": "python",
   "pygments_lexer": "ipython3",
   "version": "3.8.5"
  }
 },
 "nbformat": 4,
 "nbformat_minor": 4
}
